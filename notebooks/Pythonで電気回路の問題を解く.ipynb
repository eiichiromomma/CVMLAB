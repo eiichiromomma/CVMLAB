{
  "nbformat": 4,
  "nbformat_minor": 0,
  "metadata": {
    "colab": {
      "name": "Pythonで電気回路の問題を解く.ipynb",
      "provenance": []
    },
    "kernelspec": {
      "name": "python3",
      "display_name": "Python 3"
    },
    "language_info": {
      "name": "python"
    }
  },
  "cells": [
    {
      "cell_type": "markdown",
      "metadata": {
        "id": "iyEWFso1qWFe"
      },
      "source": [
        "# Pythonで複素数を扱う方法\n",
        "まずは変換関数を定義しておく。\n",
        "* P2R: 極形式(ラジアン)→直角座標形式\n",
        "* R2P: 直角座標形式→極形式(ラジアン)\n",
        "* P2Rd: 極形式(degree)→直角座標形式\n",
        "* R2Pd: 直角座標形式→極形式(degree)\n",
        "* P2str: 極形式を有効桁3桁のテキスト(string)に\n",
        "\n",
        "注意点としてはどっちの角度表記かは自分の頭で管理する必要がある"
      ]
    },
    {
      "cell_type": "code",
      "metadata": {
        "id": "dZuhZNZ6qU6W"
      },
      "source": [
        "import numpy as np\n",
        "def P2Rd(ab, angles):\n",
        "  return ab * exp(1j*np.rad2deg(angles))\n",
        "def R2Pd(z):\n",
        "  return np.abs(z), np.angle(z, deg=True)\n",
        "def P2R(ab, angles):\n",
        "  return ab * exp(1j*angles)\n",
        "def R2P(z):\n",
        "  return np.abs(z), np.angle(z, deg=False)\n",
        "def P2str(z):\n",
        "  return '({0[0]:.3g}, {0[1]:.3g})'.format(z)\n"
      ],
      "execution_count": null,
      "outputs": []
    },
    {
      "cell_type": "markdown",
      "metadata": {
        "id": "gPIE28z1VYEs"
      },
      "source": [
        "# Pythonでの複素数\n",
        "\n",
        "jを使う。「数字j」のように表現する\"j数字\"はエラーというか，\"j数字\"という変数と見做される。"
      ]
    },
    {
      "cell_type": "code",
      "metadata": {
        "colab": {
          "base_uri": "https://localhost:8080/",
          "height": 202
        },
        "id": "sf8hsjmYVnTe",
        "outputId": "78986e16-7fc2-49c6-e9f7-5c7f77d6a1a4"
      },
      "source": [
        "print(5j)\n",
        "print(j5)"
      ],
      "execution_count": null,
      "outputs": [
        {
          "output_type": "stream",
          "text": [
            "5j\n"
          ],
          "name": "stdout"
        },
        {
          "output_type": "error",
          "ename": "NameError",
          "evalue": "ignored",
          "traceback": [
            "\u001b[0;31m---------------------------------------------------------------------------\u001b[0m",
            "\u001b[0;31mNameError\u001b[0m                                 Traceback (most recent call last)",
            "\u001b[0;32m<ipython-input-6-24b1d097f5c7>\u001b[0m in \u001b[0;36m<module>\u001b[0;34m()\u001b[0m\n\u001b[1;32m      1\u001b[0m \u001b[0mprint\u001b[0m\u001b[0;34m(\u001b[0m\u001b[0;36m5j\u001b[0m\u001b[0;34m)\u001b[0m\u001b[0;34m\u001b[0m\u001b[0;34m\u001b[0m\u001b[0m\n\u001b[0;32m----> 2\u001b[0;31m \u001b[0mprint\u001b[0m\u001b[0;34m(\u001b[0m\u001b[0mj5\u001b[0m\u001b[0;34m)\u001b[0m\u001b[0;34m\u001b[0m\u001b[0;34m\u001b[0m\u001b[0m\n\u001b[0m",
            "\u001b[0;31mNameError\u001b[0m: name 'j5' is not defined"
          ]
        }
      ]
    },
    {
      "cell_type": "markdown",
      "metadata": {
        "id": "3rzKupWYr0rO"
      },
      "source": [
        "## 教科書の問題\n",
        "$$ \\dot{Z}_1=2\\sqrt{3}+j2, \\dot{Z}_2 = 3-j3\\sqrt{3} $$のとき加減乗除を求めよ"
      ]
    },
    {
      "cell_type": "code",
      "metadata": {
        "colab": {
          "base_uri": "https://localhost:8080/"
        },
        "id": "ec1cLAAwrAQj",
        "outputId": "f4bab138-bc24-42bc-cbbb-eac9d91343b8"
      },
      "source": [
        "Z1 = 2*np.sqrt(3)+2j\n",
        "Z2 = 3-3j*np.sqrt(3)\n",
        "print('Z1+Z2=' , Z1+Z2, ',極形式(大きさ，偏角(degree))', R2Pd(Z1+Z2))\n",
        "print('Z1-Z2=' , Z1-Z2, ',極形式(大きさ，偏角(degree))', R2Pd(Z1-Z2))\n",
        "print('Z1*Z2=' , Z1*Z2, ',極形式(大きさ，偏角(degree))', R2Pd(Z1*Z2))\n",
        "print('Z1/Z2=' , Z1/Z2, ',極形式(大きさ，偏角(degree))', R2Pd(Z1/Z2))\n",
        "# formatを使うと桁数を少なくできる\n",
        "# tupleを使っているので極形式はP2strでstringに変換して表示\n",
        "print('Z1+Z2={:.3g}'.format(Z1+Z2))\n",
        "print('Z1+Z2={:.3g}'.format(Z1+Z2), '極形式(大きさ，偏角(degree))=', P2str(R2Pd(Z1+Z2)))\n",
        "\n"
      ],
      "execution_count": null,
      "outputs": [
        {
          "output_type": "stream",
          "text": [
            "Z1+Z2= (6.464101615137754-3.196152422706632j) ,極形式(大きさ，偏角(degree)) (7.211102550927978, -26.309932474020215)\n",
            "Z1-Z2= (0.4641016151377544+7.196152422706632j) ,極形式(大きさ，偏角(degree)) (7.211102550927978, 86.30993247402021)\n",
            "Z1*Z2= (20.784609690826528-12j) ,極形式(大きさ，偏角(degree)) (24.0, -29.999999999999996)\n",
            "Z1/Z2= (-3.2049378106392736e-17+0.6666666666666667j) ,極形式(大きさ，偏角(degree)) (0.6666666666666667, 90.0)\n",
            "Z1+Z2=6.46-3.2j\n",
            "Z1+Z2=6.46-3.2j 極形式(大きさ，偏角(degree))= (7.21, -26.3)\n"
          ],
          "name": "stdout"
        }
      ]
    },
    {
      "cell_type": "markdown",
      "metadata": {
        "id": "Es2dEjTAUWw5"
      },
      "source": [
        "## インピーダンスの計算\n",
        "\n",
        "$$ \\dot{Z}=R+j\\left( \\omega L - \\frac{1}{\\omega C} \\right) $$\n",
        "\n",
        "について，$R=500\\Omega, f=1kHz, L=100mH, C=50\\mu F$のとき$\\dot{Z}$を求めよ。\n"
      ]
    },
    {
      "cell_type": "code",
      "metadata": {
        "colab": {
          "base_uri": "https://localhost:8080/"
        },
        "id": "n9XwZwXuuw7K",
        "outputId": "e6efd593-0a87-4f79-c02c-49b708bebca0"
      },
      "source": [
        "R=500\n",
        "f=1e3\n",
        "L=100e-3\n",
        "C=50e-6\n",
        "omega = 2*np.pi*f\n",
        "Z = R + 1j * ( omega * L - 1/(omega * C))\n",
        "print('Z={:.3g}'.format(Z))\n",
        "print('極形式(大きさ，偏角(degree))=', P2str(R2Pd(Z)))"
      ],
      "execution_count": null,
      "outputs": [
        {
          "output_type": "stream",
          "text": [
            "Z=500+625j\n",
            "極形式(大きさ，偏角(degree))= (800, 51.3)\n"
          ],
          "name": "stdout"
        }
      ]
    },
    {
      "cell_type": "markdown",
      "metadata": {
        "id": "JDEvhZIdUQ07"
      },
      "source": [
        "## $ Ax=B $ を解く方法\n",
        "$$\n",
        "\\left[\\begin{array}{cc}\n",
        "10+20j & 20j \\\\\n",
        "20j & -10j\n",
        "\\end{array} \\right] \\left[ \\begin{array}{c}\n",
        "x_1 \\\\\n",
        "x_2\n",
        "\\end{array} \\right] = \\left[ \\begin{array}{c}\n",
        "100\\\\\n",
        "100j\n",
        "\\end{array} \\right]\n",
        "$$\n",
        "を$Ax=B$として考え，以下のようにA, Bを作る。"
      ]
    },
    {
      "cell_type": "code",
      "metadata": {
        "id": "Udxdcbw_MRg8"
      },
      "source": [
        "import numpy as np\n",
        "A = [[10+20j, 20j], [20j, -10j]]\n",
        "B = [100, 100j]"
      ],
      "execution_count": null,
      "outputs": []
    },
    {
      "cell_type": "markdown",
      "metadata": {
        "id": "8O3ve62bMZ0_"
      },
      "source": [
        "### 行列式\n",
        "* 行列式はnp.linalg.det(A)"
      ]
    },
    {
      "cell_type": "code",
      "metadata": {
        "colab": {
          "base_uri": "https://localhost:8080/"
        },
        "id": "ZSbHsEOqMWZg",
        "outputId": "fcff2f78-a759-4320-a896-b29465749e03"
      },
      "source": [
        "delta = np.linalg.det(A)\n",
        "print('Δ={:.3g}'.format(delta))"
      ],
      "execution_count": null,
      "outputs": [
        {
          "output_type": "stream",
          "text": [
            "Δ=600-100j\n"
          ],
          "name": "stdout"
        }
      ]
    },
    {
      "cell_type": "markdown",
      "metadata": {
        "id": "cLaB40CEMieB"
      },
      "source": [
        "### 解くときはsolve(A, B)"
      ]
    },
    {
      "cell_type": "code",
      "metadata": {
        "colab": {
          "base_uri": "https://localhost:8080/"
        },
        "id": "-FZO-tVgMc_A",
        "outputId": "c43409bd-657e-40a1-8c8e-aadd9925ff04"
      },
      "source": [
        "x = np.linalg.solve(A, B)\n",
        "print('[A, B] = [{0[0]:.3g}, {0[1]:.3g}]'.format(x))\n",
        "print('[A, B] =[', P2str(R2Pd(x[0])), ',', P2str(R2Pd(x[1])), ']')\n",
        "#単にprint(x)としても答えは表示できる\n",
        "print(x)"
      ],
      "execution_count": null,
      "outputs": [
        {
          "output_type": "stream",
          "text": [
            "[A, B] = [3.51-1.08j, -2.97-2.16j]\n",
            "[A, B] =[ (3.68, -17.1) , (3.68, -144) ]\n",
            "[ 3.51351351-1.08108108j -2.97297297-2.16216216j]\n"
          ],
          "name": "stdout"
        }
      ]
    },
    {
      "cell_type": "code",
      "metadata": {
        "id": "9kDG1XfO9QSm"
      },
      "source": [
        ""
      ],
      "execution_count": null,
      "outputs": []
    }
  ]
}